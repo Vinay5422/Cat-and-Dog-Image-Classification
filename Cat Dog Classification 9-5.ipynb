{
 "cells": [
  {
   "cell_type": "code",
   "execution_count": 2,
   "id": "0b7c4d7c",
   "metadata": {},
   "outputs": [],
   "source": [
    "import tensorflow as tf\n",
    "from keras.preprocessing.image import ImageDataGenerator"
   ]
  },
  {
   "cell_type": "code",
   "execution_count": 8,
   "id": "0adad296",
   "metadata": {},
   "outputs": [
    {
     "name": "stdout",
     "output_type": "stream",
     "text": [
      "Found 557 images belonging to 2 classes.\n"
     ]
    }
   ],
   "source": [
    "train_datagen=ImageDataGenerator(rescale=1./255,\n",
    "                                shear_range=0.2,\n",
    "                                zoom_range=0.2,\n",
    "                                horizontal_flip=True)\n",
    "training_set=train_datagen.flow_from_directory('D:/cat and dog/train',\n",
    "                                              target_size=(64,64),\n",
    "                                              batch_size=32,\n",
    "                                              class_mode='binary')"
   ]
  },
  {
   "cell_type": "code",
   "execution_count": 10,
   "id": "1c755df3",
   "metadata": {},
   "outputs": [
    {
     "name": "stdout",
     "output_type": "stream",
     "text": [
      "Found 140 images belonging to 2 classes.\n"
     ]
    }
   ],
   "source": [
    "test_datagen=ImageDataGenerator(rescale=1./255,\n",
    "                                shear_range=0.2,\n",
    "                                zoom_range=0.2,\n",
    "                                horizontal_flip=True)\n",
    "test_set=test_datagen.flow_from_directory('D:/cat and dog/test',\n",
    "                                          target_size=(64,64),\n",
    "                                              batch_size=32,\n",
    "                                              class_mode='binary')"
   ]
  },
  {
   "cell_type": "code",
   "execution_count": 11,
   "id": "55f64f7b",
   "metadata": {},
   "outputs": [],
   "source": [
    "cnn=tf.keras.models.Sequential()"
   ]
  },
  {
   "cell_type": "markdown",
   "id": "4d97aa51",
   "metadata": {},
   "source": [
    "First Layer"
   ]
  },
  {
   "cell_type": "code",
   "execution_count": 15,
   "id": "3132ab73",
   "metadata": {},
   "outputs": [],
   "source": [
    "cnn.add(tf.keras.layers.Conv2D(filters=32,kernel_size=3,activation='relu',\n",
    "                               input_shape=[64,64,3]))"
   ]
  },
  {
   "cell_type": "markdown",
   "id": "b4decdd8",
   "metadata": {},
   "source": [
    "Pooling"
   ]
  },
  {
   "cell_type": "code",
   "execution_count": 16,
   "id": "a2adb482",
   "metadata": {},
   "outputs": [],
   "source": [
    "cnn.add(tf.keras.layers.MaxPool2D(pool_size=2,strides=2))"
   ]
  },
  {
   "cell_type": "markdown",
   "id": "9f407dd3",
   "metadata": {},
   "source": [
    "Second Layer"
   ]
  },
  {
   "cell_type": "code",
   "execution_count": 17,
   "id": "b45163fb",
   "metadata": {},
   "outputs": [],
   "source": [
    "cnn.add(tf.keras.layers.Conv2D(filters=32,kernel_size=3,activation='relu',\n",
    "                               input_shape=[64,64,3]))"
   ]
  },
  {
   "cell_type": "code",
   "execution_count": 18,
   "id": "9b8e9d44",
   "metadata": {},
   "outputs": [],
   "source": [
    "cnn.add(tf.keras.layers.MaxPool2D(pool_size=2,strides=2))"
   ]
  },
  {
   "cell_type": "markdown",
   "id": "ad2700c5",
   "metadata": {},
   "source": [
    "Flattening"
   ]
  },
  {
   "cell_type": "code",
   "execution_count": 22,
   "id": "e80aa182",
   "metadata": {},
   "outputs": [],
   "source": [
    "cnn.add(tf.keras.layers.Flatten())"
   ]
  },
  {
   "cell_type": "markdown",
   "id": "a5f73a73",
   "metadata": {},
   "source": [
    "Full Connection"
   ]
  },
  {
   "cell_type": "code",
   "execution_count": 23,
   "id": "3205ff3f",
   "metadata": {},
   "outputs": [],
   "source": [
    "cnn.add(tf.keras.layers.Dense(units=128,activation='relu'))"
   ]
  },
  {
   "cell_type": "markdown",
   "id": "1d10ab49",
   "metadata": {},
   "source": [
    "Output layers"
   ]
  },
  {
   "cell_type": "code",
   "execution_count": 25,
   "id": "fe432ed6",
   "metadata": {},
   "outputs": [],
   "source": [
    "cnn.add(tf.keras.layers.Dense(units=1,activation='sigmoid'))"
   ]
  },
  {
   "cell_type": "code",
   "execution_count": 26,
   "id": "908dfb03",
   "metadata": {},
   "outputs": [
    {
     "name": "stdout",
     "output_type": "stream",
     "text": [
      "Model: \"sequential\"\n",
      "_________________________________________________________________\n",
      " Layer (type)                Output Shape              Param #   \n",
      "=================================================================\n",
      " conv2d_1 (Conv2D)           (None, 62, 62, 32)        896       \n",
      "                                                                 \n",
      " max_pooling2d (MaxPooling2D  (None, 31, 31, 32)       0         \n",
      " )                                                               \n",
      "                                                                 \n",
      " conv2d_2 (Conv2D)           (None, 29, 29, 32)        9248      \n",
      "                                                                 \n",
      " max_pooling2d_1 (MaxPooling  (None, 14, 14, 32)       0         \n",
      " 2D)                                                             \n",
      "                                                                 \n",
      " flatten (Flatten)           (None, 6272)              0         \n",
      "                                                                 \n",
      " dense (Dense)               (None, 128)               802944    \n",
      "                                                                 \n",
      " dense_2 (Dense)             (None, 1)                 129       \n",
      "                                                                 \n",
      "=================================================================\n",
      "Total params: 813,217\n",
      "Trainable params: 813,217\n",
      "Non-trainable params: 0\n",
      "_________________________________________________________________\n"
     ]
    }
   ],
   "source": [
    "cnn.summary()"
   ]
  },
  {
   "cell_type": "markdown",
   "id": "9885cead",
   "metadata": {},
   "source": [
    "Training the CNN"
   ]
  },
  {
   "cell_type": "code",
   "execution_count": 27,
   "id": "a6e36d56",
   "metadata": {},
   "outputs": [],
   "source": [
    "cnn.compile(optimizer='adam',loss='binary_crossentropy',metrics=['accuracy'])"
   ]
  },
  {
   "cell_type": "markdown",
   "id": "b57b5cfa",
   "metadata": {},
   "source": [
    "loss function= computes the error for a single Training example  while the cost function is the average of the loss functions of the entire training set"
   ]
  },
  {
   "cell_type": "code",
   "execution_count": 28,
   "id": "89aebd53",
   "metadata": {},
   "outputs": [
    {
     "name": "stdout",
     "output_type": "stream",
     "text": [
      "Epoch 1/25\n",
      "18/18 [==============================] - 31s 2s/step - loss: 0.7397 - accuracy: 0.4865 - val_loss: 0.6943 - val_accuracy: 0.5000\n",
      "Epoch 2/25\n",
      "18/18 [==============================] - 19s 1s/step - loss: 0.6929 - accuracy: 0.5242 - val_loss: 0.6920 - val_accuracy: 0.5000\n",
      "Epoch 3/25\n",
      "18/18 [==============================] - 19s 1s/step - loss: 0.6885 - accuracy: 0.5242 - val_loss: 0.6938 - val_accuracy: 0.5857\n",
      "Epoch 4/25\n",
      "18/18 [==============================] - 19s 1s/step - loss: 0.6776 - accuracy: 0.5709 - val_loss: 0.7036 - val_accuracy: 0.4929\n",
      "Epoch 5/25\n",
      "18/18 [==============================] - 19s 1s/step - loss: 0.6621 - accuracy: 0.6391 - val_loss: 0.7162 - val_accuracy: 0.5357\n",
      "Epoch 6/25\n",
      "18/18 [==============================] - 19s 1s/step - loss: 0.6409 - accuracy: 0.6535 - val_loss: 0.7007 - val_accuracy: 0.5571\n",
      "Epoch 7/25\n",
      "18/18 [==============================] - 19s 1s/step - loss: 0.6216 - accuracy: 0.6517 - val_loss: 0.7329 - val_accuracy: 0.5500\n",
      "Epoch 8/25\n",
      "18/18 [==============================] - 19s 1s/step - loss: 0.5946 - accuracy: 0.6858 - val_loss: 0.7081 - val_accuracy: 0.5786\n",
      "Epoch 9/25\n",
      "18/18 [==============================] - 19s 1s/step - loss: 0.5675 - accuracy: 0.6966 - val_loss: 0.7101 - val_accuracy: 0.5714\n",
      "Epoch 10/25\n",
      "18/18 [==============================] - 19s 1s/step - loss: 0.5607 - accuracy: 0.6894 - val_loss: 0.6924 - val_accuracy: 0.6214\n",
      "Epoch 11/25\n",
      "18/18 [==============================] - 19s 1s/step - loss: 0.5456 - accuracy: 0.7253 - val_loss: 0.7057 - val_accuracy: 0.5786\n",
      "Epoch 12/25\n",
      "18/18 [==============================] - 19s 1s/step - loss: 0.5330 - accuracy: 0.7271 - val_loss: 0.7364 - val_accuracy: 0.5857\n",
      "Epoch 13/25\n",
      "18/18 [==============================] - 19s 1s/step - loss: 0.5230 - accuracy: 0.7181 - val_loss: 0.7022 - val_accuracy: 0.6429\n",
      "Epoch 14/25\n",
      "18/18 [==============================] - 19s 1s/step - loss: 0.4703 - accuracy: 0.7612 - val_loss: 0.6941 - val_accuracy: 0.5786\n",
      "Epoch 15/25\n",
      "18/18 [==============================] - 19s 1s/step - loss: 0.4755 - accuracy: 0.7666 - val_loss: 0.6681 - val_accuracy: 0.6571\n",
      "Epoch 16/25\n",
      "18/18 [==============================] - 19s 1s/step - loss: 0.4954 - accuracy: 0.7504 - val_loss: 0.7262 - val_accuracy: 0.6286\n",
      "Epoch 17/25\n",
      "18/18 [==============================] - 18s 1s/step - loss: 0.4268 - accuracy: 0.8169 - val_loss: 0.6252 - val_accuracy: 0.7071\n",
      "Epoch 18/25\n",
      "18/18 [==============================] - 18s 1s/step - loss: 0.4078 - accuracy: 0.8115 - val_loss: 0.7792 - val_accuracy: 0.6357\n",
      "Epoch 19/25\n",
      "18/18 [==============================] - 19s 1s/step - loss: 0.4450 - accuracy: 0.7989 - val_loss: 0.6900 - val_accuracy: 0.6143\n",
      "Epoch 20/25\n",
      "18/18 [==============================] - 18s 1s/step - loss: 0.4281 - accuracy: 0.8043 - val_loss: 0.8192 - val_accuracy: 0.6000\n",
      "Epoch 21/25\n",
      "18/18 [==============================] - 18s 1s/step - loss: 0.3983 - accuracy: 0.8330 - val_loss: 0.7635 - val_accuracy: 0.6357\n",
      "Epoch 22/25\n",
      "18/18 [==============================] - 19s 1s/step - loss: 0.3804 - accuracy: 0.8294 - val_loss: 0.7231 - val_accuracy: 0.6714\n",
      "Epoch 23/25\n",
      "18/18 [==============================] - 18s 1s/step - loss: 0.3649 - accuracy: 0.8402 - val_loss: 0.7775 - val_accuracy: 0.6429\n",
      "Epoch 24/25\n",
      "18/18 [==============================] - 19s 1s/step - loss: 0.3260 - accuracy: 0.8348 - val_loss: 0.7465 - val_accuracy: 0.6857\n",
      "Epoch 25/25\n",
      "18/18 [==============================] - 19s 1s/step - loss: 0.3434 - accuracy: 0.8492 - val_loss: 0.7267 - val_accuracy: 0.7071\n"
     ]
    },
    {
     "data": {
      "text/plain": [
       "<keras.callbacks.History at 0x1a5924deaf0>"
      ]
     },
     "execution_count": 28,
     "metadata": {},
     "output_type": "execute_result"
    }
   ],
   "source": [
    "cnn.fit(x=training_set,validation_data=test_set,epochs=25)"
   ]
  },
  {
   "cell_type": "code",
   "execution_count": 30,
   "id": "83f0f9b9",
   "metadata": {},
   "outputs": [],
   "source": [
    "import numpy as np\n",
    "from keras.preprocessing import image\n"
   ]
  },
  {
   "cell_type": "code",
   "execution_count": 32,
   "id": "b94597fb",
   "metadata": {},
   "outputs": [],
   "source": [
    "test_image=tf.keras.utils.load_img('D:/cat and dog/test/cats/cat_56.jpg',target_size=(64,64))"
   ]
  },
  {
   "cell_type": "code",
   "execution_count": 33,
   "id": "52814463",
   "metadata": {},
   "outputs": [
    {
     "data": {
      "image/png": "[encoded data removed]",
      "text/plain": [
       "<PIL.Image.Image image mode=RGB size=64x64>"
      ]
     },
     "execution_count": 33,
     "metadata": {},
     "output_type": "execute_result"
    }
   ],
   "source": [
    "test_image"
   ]
  },
  {
   "cell_type": "code",
   "execution_count": 36,
   "id": "ed9c767c",
   "metadata": {},
   "outputs": [],
   "source": [
    "test_image=tf.keras.utils.img_to_array(test_image)"
   ]
  },
  {
   "cell_type": "code",
   "execution_count": 37,
   "id": "7991fea1",
   "metadata": {},
   "outputs": [
    {
     "data": {
      "text/plain": [
       "array([[[113.,  78.,  58.],\n",
       "        [124.,  89.,  69.],\n",
       "        [154., 121., 102.],\n",
       "        ...,\n",
       "        [127., 120.,  68.],\n",
       "        [176., 168., 131.],\n",
       "        [198., 192., 166.]],\n",
       "\n",
       "       [[123.,  89.,  64.],\n",
       "        [131.,  97.,  72.],\n",
       "        [152., 120.,  97.],\n",
       "        ...,\n",
       "        [136., 129.,  75.],\n",
       "        [128., 122.,  74.],\n",
       "        [178., 176., 135.]],\n",
       "\n",
       "       [[136., 100.,  74.],\n",
       "        [145., 109.,  83.],\n",
       "        [141., 105.,  79.],\n",
       "        ...,\n",
       "        [133., 126.,  74.],\n",
       "        [140., 134.,  84.],\n",
       "        [168., 165., 122.]],\n",
       "\n",
       "       ...,\n",
       "\n",
       "       [[ 32.,  28.,  29.],\n",
       "        [ 23.,  19.,  20.],\n",
       "        [ 29.,  25.,  26.],\n",
       "        ...,\n",
       "        [  9.,   9.,  11.],\n",
       "        [ 12.,  12.,  14.],\n",
       "        [  0.,   0.,   0.]],\n",
       "\n",
       "       [[ 36.,  32.,  33.],\n",
       "        [ 36.,  32.,  33.],\n",
       "        [ 18.,  14.,  15.],\n",
       "        ...,\n",
       "        [  2.,   2.,   4.],\n",
       "        [ 63.,  63.,  65.],\n",
       "        [ 74.,  74.,  74.]],\n",
       "\n",
       "       [[ 63.,  59.,  56.],\n",
       "        [ 93.,  85.,  83.],\n",
       "        [ 76.,  70.,  70.],\n",
       "        ...,\n",
       "        [ 74.,  74.,  74.],\n",
       "        [ 85.,  85.,  85.],\n",
       "        [ 72.,  72.,  74.]]], dtype=float32)"
      ]
     },
     "execution_count": 37,
     "metadata": {},
     "output_type": "execute_result"
    }
   ],
   "source": [
    "test_image"
   ]
  },
  {
   "cell_type": "code",
   "execution_count": 38,
   "id": "d5fd453b",
   "metadata": {},
   "outputs": [
    {
     "data": {
      "text/plain": [
       "array([[[[113.,  78.,  58.],\n",
       "         [124.,  89.,  69.],\n",
       "         [154., 121., 102.],\n",
       "         ...,\n",
       "         [127., 120.,  68.],\n",
       "         [176., 168., 131.],\n",
       "         [198., 192., 166.]],\n",
       "\n",
       "        [[123.,  89.,  64.],\n",
       "         [131.,  97.,  72.],\n",
       "         [152., 120.,  97.],\n",
       "         ...,\n",
       "         [136., 129.,  75.],\n",
       "         [128., 122.,  74.],\n",
       "         [178., 176., 135.]],\n",
       "\n",
       "        [[136., 100.,  74.],\n",
       "         [145., 109.,  83.],\n",
       "         [141., 105.,  79.],\n",
       "         ...,\n",
       "         [133., 126.,  74.],\n",
       "         [140., 134.,  84.],\n",
       "         [168., 165., 122.]],\n",
       "\n",
       "        ...,\n",
       "\n",
       "        [[ 32.,  28.,  29.],\n",
       "         [ 23.,  19.,  20.],\n",
       "         [ 29.,  25.,  26.],\n",
       "         ...,\n",
       "         [  9.,   9.,  11.],\n",
       "         [ 12.,  12.,  14.],\n",
       "         [  0.,   0.,   0.]],\n",
       "\n",
       "        [[ 36.,  32.,  33.],\n",
       "         [ 36.,  32.,  33.],\n",
       "         [ 18.,  14.,  15.],\n",
       "         ...,\n",
       "         [  2.,   2.,   4.],\n",
       "         [ 63.,  63.,  65.],\n",
       "         [ 74.,  74.,  74.]],\n",
       "\n",
       "        [[ 63.,  59.,  56.],\n",
       "         [ 93.,  85.,  83.],\n",
       "         [ 76.,  70.,  70.],\n",
       "         ...,\n",
       "         [ 74.,  74.,  74.],\n",
       "         [ 85.,  85.,  85.],\n",
       "         [ 72.,  72.,  74.]]]], dtype=float32)"
      ]
     },
     "execution_count": 38,
     "metadata": {},
     "output_type": "execute_result"
    }
   ],
   "source": [
    "test_image=np.expand_dims(test_image,axis=0)\n",
    "test_image"
   ]
  },
  {
   "cell_type": "code",
   "execution_count": 39,
   "id": "fa271ece",
   "metadata": {},
   "outputs": [
    {
     "name": "stdout",
     "output_type": "stream",
     "text": [
      "1/1 [==============================] - 0s 374ms/step\n"
     ]
    }
   ],
   "source": [
    "result=cnn.predict(test_image)"
   ]
  },
  {
   "cell_type": "code",
   "execution_count": 41,
   "id": "fa16c7e2",
   "metadata": {},
   "outputs": [
    {
     "data": {
      "text/plain": [
       "array([[3.7081011e-38]], dtype=float32)"
      ]
     },
     "execution_count": 41,
     "metadata": {},
     "output_type": "execute_result"
    }
   ],
   "source": [
    "result"
   ]
  },
  {
   "cell_type": "code",
   "execution_count": 42,
   "id": "0ee4f3e3",
   "metadata": {},
   "outputs": [],
   "source": [
    "if result[0][0]==1:\n",
    "    prediction='dog'\n",
    "else:\n",
    "    prediction='cat'"
   ]
  },
  {
   "cell_type": "code",
   "execution_count": 43,
   "id": "d286ccce",
   "metadata": {},
   "outputs": [
    {
     "name": "stdout",
     "output_type": "stream",
     "text": [
      "cat\n"
     ]
    }
   ],
   "source": [
    "print(prediction)"
   ]
  },
  {
   "cell_type": "code",
   "execution_count": null,
   "id": "c82a8bcf",
   "metadata": {},
   "outputs": [],
   "source": []
  }
 ],
 "metadata": {
  "kernelspec": {
   "display_name": "Python 3 (ipykernel)",
   "language": "python",
   "name": "python3"
  },
  "language_info": {
   "codemirror_mode": {
    "name": "ipython",
    "version": 3
   },
   "file_extension": ".py",
   "mimetype": "text/x-python",
   "name": "python",
   "nbconvert_exporter": "python",
   "pygments_lexer": "ipython3",
   "version": "3.9.13"
  }
 },
 "nbformat": 4,
 "nbformat_minor": 5
}
